{
 "cells": [
  {
   "cell_type": "code",
   "execution_count": 4,
   "id": "246f8e86",
   "metadata": {},
   "outputs": [],
   "source": [
    "import pandas as pd\n",
    "import numpy as np\n",
    "import seaborn as sns\n",
    "import matplotlib.pyplot as plt"
   ]
  },
  {
   "cell_type": "code",
   "execution_count": 9,
   "id": "9f197d5a",
   "metadata": {},
   "outputs": [
    {
     "name": "stdout",
     "output_type": "stream",
     "text": [
      "                     District Code     Estimate  Prevalence_%  Prevalence_LCL  \\\n",
      "0                Buffalo City  BUF       Survey     13.600000       10.268000   \n",
      "1                Buffalo City  BUF  Fay-Heriott     13.501283       11.031605   \n",
      "2           City of Cape Town  CPT       Survey      5.200000        3.044000   \n",
      "3           City of Cape Town  CPT  Fay-Heriott      6.020043        4.335072   \n",
      "4                  West Coast  DC1       Survey      2.700000        0.000000   \n",
      "..                        ...  ...          ...           ...             ...   \n",
      "99                   Mangaung  MAN  Fay-Heriott      9.147425        6.725917   \n",
      "100  Nelson Mandela Bay Metro  NMA       Survey      8.300000        3.400000   \n",
      "101  Nelson Mandela Bay Metro  NMA  Fay-Heriott      9.054060        6.128703   \n",
      "102           City of Tshwane  TSH       Survey     11.700000        7.388000   \n",
      "103           City of Tshwane  TSH  Fay-Heriott     11.024858        8.255934   \n",
      "\n",
      "     Prevalence_UCL  NoPLHIV  NoPLHIV_LCL  NoPLHIV_UCL  \n",
      "0         16.932000   102437        77340       127534  \n",
      "1         16.421802   101693        83092       123691  \n",
      "2          7.356000   200751       117517       283985  \n",
      "3          8.303091   232409       167359       320548  \n",
      "4          5.444000    11302            0        22789  \n",
      "..              ...      ...          ...          ...  \n",
      "99        12.325536   101520        74646       136792  \n",
      "100       13.200000    97459        39923       154995  \n",
      "101       13.179704   106313        71964       154757  \n",
      "102       16.012000   361450       228239       494661  \n",
      "103       14.574909   340593       255052       450265  \n",
      "\n",
      "[104 rows x 9 columns]\n"
     ]
    }
   ],
   "source": [
    "# Read Excel file into a DataFrame\n",
    "\n",
    "df = pd.read_excel(r\"C:\\Users\\user\\Downloads\\Palindrome\\pone.0212445.s004.xlsx\", header=1)\n",
    "\n",
    "# Display the DataFrame\n",
    "print(df)\n"
   ]
  },
  {
   "cell_type": "code",
   "execution_count": 10,
   "id": "fbd871a2",
   "metadata": {},
   "outputs": [
    {
     "data": {
      "text/html": [
       "<div>\n",
       "<style scoped>\n",
       "    .dataframe tbody tr th:only-of-type {\n",
       "        vertical-align: middle;\n",
       "    }\n",
       "\n",
       "    .dataframe tbody tr th {\n",
       "        vertical-align: top;\n",
       "    }\n",
       "\n",
       "    .dataframe thead th {\n",
       "        text-align: right;\n",
       "    }\n",
       "</style>\n",
       "<table border=\"1\" class=\"dataframe\">\n",
       "  <thead>\n",
       "    <tr style=\"text-align: right;\">\n",
       "      <th></th>\n",
       "      <th>District</th>\n",
       "      <th>Code</th>\n",
       "      <th>Estimate</th>\n",
       "      <th>Prevalence_%</th>\n",
       "      <th>Prevalence_LCL</th>\n",
       "      <th>Prevalence_UCL</th>\n",
       "      <th>NoPLHIV</th>\n",
       "      <th>NoPLHIV_LCL</th>\n",
       "      <th>NoPLHIV_UCL</th>\n",
       "    </tr>\n",
       "  </thead>\n",
       "  <tbody>\n",
       "    <tr>\n",
       "      <th>0</th>\n",
       "      <td>Buffalo City</td>\n",
       "      <td>BUF</td>\n",
       "      <td>Survey</td>\n",
       "      <td>13.600000</td>\n",
       "      <td>10.268000</td>\n",
       "      <td>16.932000</td>\n",
       "      <td>102437</td>\n",
       "      <td>77340</td>\n",
       "      <td>127534</td>\n",
       "    </tr>\n",
       "    <tr>\n",
       "      <th>1</th>\n",
       "      <td>Buffalo City</td>\n",
       "      <td>BUF</td>\n",
       "      <td>Fay-Heriott</td>\n",
       "      <td>13.501283</td>\n",
       "      <td>11.031605</td>\n",
       "      <td>16.421802</td>\n",
       "      <td>101693</td>\n",
       "      <td>83092</td>\n",
       "      <td>123691</td>\n",
       "    </tr>\n",
       "    <tr>\n",
       "      <th>2</th>\n",
       "      <td>City of Cape Town</td>\n",
       "      <td>CPT</td>\n",
       "      <td>Survey</td>\n",
       "      <td>5.200000</td>\n",
       "      <td>3.044000</td>\n",
       "      <td>7.356000</td>\n",
       "      <td>200751</td>\n",
       "      <td>117517</td>\n",
       "      <td>283985</td>\n",
       "    </tr>\n",
       "    <tr>\n",
       "      <th>3</th>\n",
       "      <td>City of Cape Town</td>\n",
       "      <td>CPT</td>\n",
       "      <td>Fay-Heriott</td>\n",
       "      <td>6.020043</td>\n",
       "      <td>4.335072</td>\n",
       "      <td>8.303091</td>\n",
       "      <td>232409</td>\n",
       "      <td>167359</td>\n",
       "      <td>320548</td>\n",
       "    </tr>\n",
       "    <tr>\n",
       "      <th>4</th>\n",
       "      <td>West Coast</td>\n",
       "      <td>DC1</td>\n",
       "      <td>Survey</td>\n",
       "      <td>2.700000</td>\n",
       "      <td>0.000000</td>\n",
       "      <td>5.444000</td>\n",
       "      <td>11302</td>\n",
       "      <td>0</td>\n",
       "      <td>22789</td>\n",
       "    </tr>\n",
       "    <tr>\n",
       "      <th>...</th>\n",
       "      <td>...</td>\n",
       "      <td>...</td>\n",
       "      <td>...</td>\n",
       "      <td>...</td>\n",
       "      <td>...</td>\n",
       "      <td>...</td>\n",
       "      <td>...</td>\n",
       "      <td>...</td>\n",
       "      <td>...</td>\n",
       "    </tr>\n",
       "    <tr>\n",
       "      <th>99</th>\n",
       "      <td>Mangaung</td>\n",
       "      <td>MAN</td>\n",
       "      <td>Fay-Heriott</td>\n",
       "      <td>9.147425</td>\n",
       "      <td>6.725917</td>\n",
       "      <td>12.325536</td>\n",
       "      <td>101520</td>\n",
       "      <td>74646</td>\n",
       "      <td>136792</td>\n",
       "    </tr>\n",
       "    <tr>\n",
       "      <th>100</th>\n",
       "      <td>Nelson Mandela Bay Metro</td>\n",
       "      <td>NMA</td>\n",
       "      <td>Survey</td>\n",
       "      <td>8.300000</td>\n",
       "      <td>3.400000</td>\n",
       "      <td>13.200000</td>\n",
       "      <td>97459</td>\n",
       "      <td>39923</td>\n",
       "      <td>154995</td>\n",
       "    </tr>\n",
       "    <tr>\n",
       "      <th>101</th>\n",
       "      <td>Nelson Mandela Bay Metro</td>\n",
       "      <td>NMA</td>\n",
       "      <td>Fay-Heriott</td>\n",
       "      <td>9.054060</td>\n",
       "      <td>6.128703</td>\n",
       "      <td>13.179704</td>\n",
       "      <td>106313</td>\n",
       "      <td>71964</td>\n",
       "      <td>154757</td>\n",
       "    </tr>\n",
       "    <tr>\n",
       "      <th>102</th>\n",
       "      <td>City of Tshwane</td>\n",
       "      <td>TSH</td>\n",
       "      <td>Survey</td>\n",
       "      <td>11.700000</td>\n",
       "      <td>7.388000</td>\n",
       "      <td>16.012000</td>\n",
       "      <td>361450</td>\n",
       "      <td>228239</td>\n",
       "      <td>494661</td>\n",
       "    </tr>\n",
       "    <tr>\n",
       "      <th>103</th>\n",
       "      <td>City of Tshwane</td>\n",
       "      <td>TSH</td>\n",
       "      <td>Fay-Heriott</td>\n",
       "      <td>11.024858</td>\n",
       "      <td>8.255934</td>\n",
       "      <td>14.574909</td>\n",
       "      <td>340593</td>\n",
       "      <td>255052</td>\n",
       "      <td>450265</td>\n",
       "    </tr>\n",
       "  </tbody>\n",
       "</table>\n",
       "<p>104 rows × 9 columns</p>\n",
       "</div>"
      ],
      "text/plain": [
       "                     District Code     Estimate  Prevalence_%  Prevalence_LCL  \\\n",
       "0                Buffalo City  BUF       Survey     13.600000       10.268000   \n",
       "1                Buffalo City  BUF  Fay-Heriott     13.501283       11.031605   \n",
       "2           City of Cape Town  CPT       Survey      5.200000        3.044000   \n",
       "3           City of Cape Town  CPT  Fay-Heriott      6.020043        4.335072   \n",
       "4                  West Coast  DC1       Survey      2.700000        0.000000   \n",
       "..                        ...  ...          ...           ...             ...   \n",
       "99                   Mangaung  MAN  Fay-Heriott      9.147425        6.725917   \n",
       "100  Nelson Mandela Bay Metro  NMA       Survey      8.300000        3.400000   \n",
       "101  Nelson Mandela Bay Metro  NMA  Fay-Heriott      9.054060        6.128703   \n",
       "102           City of Tshwane  TSH       Survey     11.700000        7.388000   \n",
       "103           City of Tshwane  TSH  Fay-Heriott     11.024858        8.255934   \n",
       "\n",
       "     Prevalence_UCL  NoPLHIV  NoPLHIV_LCL  NoPLHIV_UCL  \n",
       "0         16.932000   102437        77340       127534  \n",
       "1         16.421802   101693        83092       123691  \n",
       "2          7.356000   200751       117517       283985  \n",
       "3          8.303091   232409       167359       320548  \n",
       "4          5.444000    11302            0        22789  \n",
       "..              ...      ...          ...          ...  \n",
       "99        12.325536   101520        74646       136792  \n",
       "100       13.200000    97459        39923       154995  \n",
       "101       13.179704   106313        71964       154757  \n",
       "102       16.012000   361450       228239       494661  \n",
       "103       14.574909   340593       255052       450265  \n",
       "\n",
       "[104 rows x 9 columns]"
      ]
     },
     "execution_count": 10,
     "metadata": {},
     "output_type": "execute_result"
    }
   ],
   "source": [
    "df"
   ]
  },
  {
   "cell_type": "code",
   "execution_count": 11,
   "id": "47fbe47c",
   "metadata": {},
   "outputs": [
    {
     "name": "stdout",
     "output_type": "stream",
     "text": [
      "Total NoPLHIV in districts according to the Survey estimate: 6409903\n"
     ]
    }
   ],
   "source": [
    "# Task 1: Total number of people living with HIV (NoPLHIV) in the listed districts according to the Survey estimate\n",
    "total_noplhiv_survey = df[df['Estimate'] == 'Survey']['NoPLHIV'].sum()\n",
    "print(f\"Total NoPLHIV in districts according to the Survey estimate: {total_noplhiv_survey}\")\n"
   ]
  },
  {
   "cell_type": "code",
   "execution_count": 12,
   "id": "6796dd65",
   "metadata": {},
   "outputs": [
    {
     "name": "stdout",
     "output_type": "stream",
     "text": [
      "Average NoPLHIV for Xhariep: 12247.5\n"
     ]
    }
   ],
   "source": [
    "# Task 2: Average NoPLHIV of the two estimates used for “Xhariep”\n",
    "xhariep_data = df[df['District'] == 'Xhariep']\n",
    "average_noplhiv_xhariep = xhariep_data['NoPLHIV'].mean()\n",
    "print(f\"Average NoPLHIV for Xhariep: {average_noplhiv_xhariep}\")\n"
   ]
  },
  {
   "cell_type": "code",
   "execution_count": 13,
   "id": "0299445d",
   "metadata": {},
   "outputs": [
    {
     "name": "stdout",
     "output_type": "stream",
     "text": [
      "                     District  NoPLHIV   NoHIV\n",
      "0                Buffalo City   102437   25097\n",
      "1                Buffalo City   101693   21998\n",
      "2           City of Cape Town   200751   83234\n",
      "3           City of Cape Town   232409   88139\n",
      "4                  West Coast    11302   11487\n",
      "..                        ...      ...     ...\n",
      "99                   Mangaung   101520   35272\n",
      "100  Nelson Mandela Bay Metro    97459   57536\n",
      "101  Nelson Mandela Bay Metro   106313   48444\n",
      "102           City of Tshwane   361450  133211\n",
      "103           City of Tshwane   340593  109672\n",
      "\n",
      "[104 rows x 3 columns]\n"
     ]
    }
   ],
   "source": [
    "# Task 3: Add a column and populate it with the number of people not living with HIV for each row\n",
    "df['NoHIV'] = df['NoPLHIV_UCL'] - df['NoPLHIV']\n",
    "print(df[['District', 'NoPLHIV', 'NoHIV']])\n"
   ]
  },
  {
   "cell_type": "code",
   "execution_count": 15,
   "id": "215dedb3",
   "metadata": {},
   "outputs": [
    {
     "data": {
      "text/html": [
       "<div>\n",
       "<style scoped>\n",
       "    .dataframe tbody tr th:only-of-type {\n",
       "        vertical-align: middle;\n",
       "    }\n",
       "\n",
       "    .dataframe tbody tr th {\n",
       "        vertical-align: top;\n",
       "    }\n",
       "\n",
       "    .dataframe thead th {\n",
       "        text-align: right;\n",
       "    }\n",
       "</style>\n",
       "<table border=\"1\" class=\"dataframe\">\n",
       "  <thead>\n",
       "    <tr style=\"text-align: right;\">\n",
       "      <th></th>\n",
       "      <th>District</th>\n",
       "      <th>NoPLHIV</th>\n",
       "      <th>NoHIV</th>\n",
       "    </tr>\n",
       "  </thead>\n",
       "  <tbody>\n",
       "    <tr>\n",
       "      <th>0</th>\n",
       "      <td>Buffalo City</td>\n",
       "      <td>102437</td>\n",
       "      <td>25097</td>\n",
       "    </tr>\n",
       "    <tr>\n",
       "      <th>1</th>\n",
       "      <td>Buffalo City</td>\n",
       "      <td>101693</td>\n",
       "      <td>21998</td>\n",
       "    </tr>\n",
       "    <tr>\n",
       "      <th>2</th>\n",
       "      <td>City of Cape Town</td>\n",
       "      <td>200751</td>\n",
       "      <td>83234</td>\n",
       "    </tr>\n",
       "    <tr>\n",
       "      <th>3</th>\n",
       "      <td>City of Cape Town</td>\n",
       "      <td>232409</td>\n",
       "      <td>88139</td>\n",
       "    </tr>\n",
       "    <tr>\n",
       "      <th>4</th>\n",
       "      <td>West Coast</td>\n",
       "      <td>11302</td>\n",
       "      <td>11487</td>\n",
       "    </tr>\n",
       "    <tr>\n",
       "      <th>...</th>\n",
       "      <td>...</td>\n",
       "      <td>...</td>\n",
       "      <td>...</td>\n",
       "    </tr>\n",
       "    <tr>\n",
       "      <th>99</th>\n",
       "      <td>Mangaung</td>\n",
       "      <td>101520</td>\n",
       "      <td>35272</td>\n",
       "    </tr>\n",
       "    <tr>\n",
       "      <th>100</th>\n",
       "      <td>Nelson Mandela Bay Metro</td>\n",
       "      <td>97459</td>\n",
       "      <td>57536</td>\n",
       "    </tr>\n",
       "    <tr>\n",
       "      <th>101</th>\n",
       "      <td>Nelson Mandela Bay Metro</td>\n",
       "      <td>106313</td>\n",
       "      <td>48444</td>\n",
       "    </tr>\n",
       "    <tr>\n",
       "      <th>102</th>\n",
       "      <td>City of Tshwane</td>\n",
       "      <td>361450</td>\n",
       "      <td>133211</td>\n",
       "    </tr>\n",
       "    <tr>\n",
       "      <th>103</th>\n",
       "      <td>City of Tshwane</td>\n",
       "      <td>340593</td>\n",
       "      <td>109672</td>\n",
       "    </tr>\n",
       "  </tbody>\n",
       "</table>\n",
       "<p>104 rows × 3 columns</p>\n",
       "</div>"
      ],
      "text/plain": [
       "                     District  NoPLHIV   NoHIV\n",
       "0                Buffalo City   102437   25097\n",
       "1                Buffalo City   101693   21998\n",
       "2           City of Cape Town   200751   83234\n",
       "3           City of Cape Town   232409   88139\n",
       "4                  West Coast    11302   11487\n",
       "..                        ...      ...     ...\n",
       "99                   Mangaung   101520   35272\n",
       "100  Nelson Mandela Bay Metro    97459   57536\n",
       "101  Nelson Mandela Bay Metro   106313   48444\n",
       "102           City of Tshwane   361450  133211\n",
       "103           City of Tshwane   340593  109672\n",
       "\n",
       "[104 rows x 3 columns]"
      ]
     },
     "execution_count": 15,
     "metadata": {},
     "output_type": "execute_result"
    }
   ],
   "source": [
    "df[['District', 'NoPLHIV', 'NoHIV']]"
   ]
  },
  {
   "cell_type": "code",
   "execution_count": 16,
   "id": "a6b8c8ab",
   "metadata": {},
   "outputs": [
    {
     "name": "stdout",
     "output_type": "stream",
     "text": [
      "Total NoPLHIV in all cities: 2572733\n"
     ]
    }
   ],
   "source": [
    "# Task 4: Total NoPLHIV in all the cities (districts with “city” or “metro” in the name)\n",
    "total_noplhiv_cities = df[df['District'].str.contains('city|metro', case=False)]['NoPLHIV'].sum()\n",
    "print(f\"Total NoPLHIV in all cities: {total_noplhiv_cities}\")"
   ]
  },
  {
   "cell_type": "code",
   "execution_count": 17,
   "id": "e4e3b335",
   "metadata": {},
   "outputs": [
    {
     "name": "stdout",
     "output_type": "stream",
     "text": [
      "DataFrame column names after removing special characters:\n",
      "Index(['District', 'Code', 'Estimate', 'Prevalence', 'PrevalenceLCL',\n",
      "       'PrevalenceUCL', 'NoPLHIV', 'NoPLHIVLCL', 'NoPLHIVUCL', 'NoHIV'],\n",
      "      dtype='object')\n"
     ]
    },
    {
     "name": "stderr",
     "output_type": "stream",
     "text": [
      "<ipython-input-17-c05d2b027c02>:2: FutureWarning: The default value of regex will change from True to False in a future version.\n",
      "  df.columns = df.columns.str.replace('[^a-zA-Z0-9]', '')\n"
     ]
    }
   ],
   "source": [
    "# Task 5: Remove all the special/non-alphabetic characters from the dataframe column names\n",
    "df.columns = df.columns.str.replace('[^a-zA-Z0-9]', '')\n",
    "print(\"DataFrame column names after removing special characters:\")\n",
    "print(df.columns)"
   ]
  },
  {
   "cell_type": "code",
   "execution_count": 21,
   "id": "1ded45e0",
   "metadata": {
    "scrolled": true
   },
   "outputs": [
    {
     "data": {
      "image/png": "[encoded data removed]",
      "text/plain": [
       "<Figure size 720x432 with 1 Axes>"
      ]
     },
     "metadata": {
      "needs_background": "light"
     },
     "output_type": "display_data"
    }
   ],
   "source": [
    "# Task 6: Plot Prevalence confidence interval for Districts that end in “i” according to Fay-Herriott estimates\n",
    "fay_herriott_i_districts = df[df['District'].str.lower().str.endswith('i') & (df['Estimate'] == 'Fay-Heriott')]\n",
    "plt.figure(figsize=(10, 6))\n",
    "plt.errorbar(fay_herriott_i_districts['District'], fay_herriott_i_districts['Prevalence'],\n",
    "             yerr=[fay_herriott_i_districts['Prevalence'] - fay_herriott_i_districts['PrevalenceLCL'],\n",
    "                   fay_herriott_i_districts['PrevalenceUCL'] - fay_herriott_i_districts['Prevalence']],\n",
    "             fmt='o', label='Prevalence')\n",
    "plt.title('Prevalence Confidence Interval for Districts ending in \"i\" (Fay-Herriott Estimates)')\n",
    "plt.xlabel('District')\n",
    "plt.ylabel('Prevalence %')\n",
    "plt.legend()\n",
    "plt.show()\n"
   ]
  },
  {
   "cell_type": "code",
   "execution_count": 22,
   "id": "d2e3c085",
   "metadata": {},
   "outputs": [],
   "source": [
    "# This excercise took me 1hr and 49 minutes to complete it"
   ]
  },
  {
   "cell_type": "code",
   "execution_count": null,
   "id": "35c5969b",
   "metadata": {},
   "outputs": [],
   "source": []
  }
 ],
 "metadata": {
  "kernelspec": {
   "display_name": "Python 3",
   "language": "python",
   "name": "python3"
  },
  "language_info": {
   "codemirror_mode": {
    "name": "ipython",
    "version": 3
   },
   "file_extension": ".py",
   "mimetype": "text/x-python",
   "name": "python",
   "nbconvert_exporter": "python",
   "pygments_lexer": "ipython3",
   "version": "3.8.8"
  }
 },
 "nbformat": 4,
 "nbformat_minor": 5
}
